{
 "cells": [
  {
   "cell_type": "markdown",
   "metadata": {},
   "source": [
    "# Imports"
   ]
  },
  {
   "cell_type": "code",
   "execution_count": 336,
   "metadata": {},
   "outputs": [],
   "source": [
    "import pandas as pd\n",
    "\n",
    "import re\n",
    "\n",
    "from time import sleep\n",
    "\n",
    "from geopy.geocoders import GoogleV3"
   ]
  },
  {
   "cell_type": "markdown",
   "metadata": {},
   "source": [
    "# Data"
   ]
  },
  {
   "cell_type": "code",
   "execution_count": 337,
   "metadata": {},
   "outputs": [],
   "source": [
    "stores = pd.read_csv('../data/store_list_v2_clean.csv')\n",
    "products = pd.read_csv('../data/products_tableau.csv')\n",
    "profits = pd.read_csv('../data/profits_tableau.csv')"
   ]
  },
  {
   "cell_type": "markdown",
   "metadata": {},
   "source": [
    "# Cleaning Store Data"
   ]
  },
  {
   "cell_type": "markdown",
   "metadata": {},
   "source": [
    "## Stores"
   ]
  },
  {
   "cell_type": "code",
   "execution_count": 338,
   "metadata": {},
   "outputs": [
    {
     "data": {
      "text/html": [
       "<div>\n",
       "<style scoped>\n",
       "    .dataframe tbody tr th:only-of-type {\n",
       "        vertical-align: middle;\n",
       "    }\n",
       "\n",
       "    .dataframe tbody tr th {\n",
       "        vertical-align: top;\n",
       "    }\n",
       "\n",
       "    .dataframe thead th {\n",
       "        text-align: right;\n",
       "    }\n",
       "</style>\n",
       "<table border=\"1\" class=\"dataframe\">\n",
       "  <thead>\n",
       "    <tr style=\"text-align: right;\">\n",
       "      <th></th>\n",
       "      <th>Store</th>\n",
       "      <th>Address</th>\n",
       "      <th>City</th>\n",
       "      <th>State</th>\n",
       "    </tr>\n",
       "  </thead>\n",
       "  <tbody>\n",
       "    <tr>\n",
       "      <th>0</th>\n",
       "      <td>Berkeley Bowl</td>\n",
       "      <td>2020 Oregon St</td>\n",
       "      <td>Berkeley</td>\n",
       "      <td>California</td>\n",
       "    </tr>\n",
       "    <tr>\n",
       "      <th>1</th>\n",
       "      <td>Berkeley Bowl West</td>\n",
       "      <td>920 Heinz Avenue</td>\n",
       "      <td>Berkeley</td>\n",
       "      <td>California</td>\n",
       "    </tr>\n",
       "    <tr>\n",
       "      <th>2</th>\n",
       "      <td>Diablo Foods-Lafeyette</td>\n",
       "      <td>3615 Mt Diablo Blvd</td>\n",
       "      <td>Lafayette</td>\n",
       "      <td>California</td>\n",
       "    </tr>\n",
       "    <tr>\n",
       "      <th>3</th>\n",
       "      <td>Draeger's-Danville</td>\n",
       "      <td>291 Utah Ave.</td>\n",
       "      <td>South San Francisco</td>\n",
       "      <td>California</td>\n",
       "    </tr>\n",
       "    <tr>\n",
       "      <th>4</th>\n",
       "      <td>Encinal Market</td>\n",
       "      <td>3211 Encinal Ave.</td>\n",
       "      <td>Alameda</td>\n",
       "      <td>California</td>\n",
       "    </tr>\n",
       "  </tbody>\n",
       "</table>\n",
       "</div>"
      ],
      "text/plain": [
       "                    Store              Address                 City  \\\n",
       "0           Berkeley Bowl       2020 Oregon St             Berkeley   \n",
       "1      Berkeley Bowl West     920 Heinz Avenue             Berkeley   \n",
       "2  Diablo Foods-Lafeyette  3615 Mt Diablo Blvd            Lafayette   \n",
       "3      Draeger's-Danville        291 Utah Ave.  South San Francisco   \n",
       "4          Encinal Market    3211 Encinal Ave.              Alameda   \n",
       "\n",
       "        State  \n",
       "0  California  \n",
       "1  California  \n",
       "2  California  \n",
       "3  California  \n",
       "4  California  "
      ]
     },
     "execution_count": 338,
     "metadata": {},
     "output_type": "execute_result"
    }
   ],
   "source": [
    "stores.drop(columns=['ID'], inplace=True)\n",
    "stores.head()"
   ]
  },
  {
   "cell_type": "markdown",
   "metadata": {},
   "source": [
    "Check for missing values"
   ]
  },
  {
   "cell_type": "code",
   "execution_count": 339,
   "metadata": {},
   "outputs": [
    {
     "data": {
      "text/plain": [
       "Store      0\n",
       "Address    1\n",
       "City       0\n",
       "State      0\n",
       "dtype: int64"
      ]
     },
     "execution_count": 339,
     "metadata": {},
     "output_type": "execute_result"
    }
   ],
   "source": [
    "stores.isna().sum()"
   ]
  },
  {
   "cell_type": "code",
   "execution_count": 341,
   "metadata": {},
   "outputs": [
    {
     "data": {
      "text/html": [
       "<div>\n",
       "<style scoped>\n",
       "    .dataframe tbody tr th:only-of-type {\n",
       "        vertical-align: middle;\n",
       "    }\n",
       "\n",
       "    .dataframe tbody tr th {\n",
       "        vertical-align: top;\n",
       "    }\n",
       "\n",
       "    .dataframe thead th {\n",
       "        text-align: right;\n",
       "    }\n",
       "</style>\n",
       "<table border=\"1\" class=\"dataframe\">\n",
       "  <thead>\n",
       "    <tr style=\"text-align: right;\">\n",
       "      <th></th>\n",
       "      <th>Store</th>\n",
       "      <th>Address</th>\n",
       "      <th>City</th>\n",
       "      <th>State</th>\n",
       "    </tr>\n",
       "  </thead>\n",
       "  <tbody>\n",
       "    <tr>\n",
       "      <th>291</th>\n",
       "      <td>Club Costa Vida/WFSH</td>\n",
       "      <td>NaN</td>\n",
       "      <td>Santa Rosa</td>\n",
       "      <td>California</td>\n",
       "    </tr>\n",
       "  </tbody>\n",
       "</table>\n",
       "</div>"
      ],
      "text/plain": [
       "                    Store Address        City       State\n",
       "291  Club Costa Vida/WFSH     NaN  Santa Rosa  California"
      ]
     },
     "execution_count": 341,
     "metadata": {},
     "output_type": "execute_result"
    }
   ],
   "source": [
    "stores[stores['Address'].isna()]"
   ]
  },
  {
   "cell_type": "markdown",
   "metadata": {},
   "source": [
    "Dropping this store because there is no address data that could be fine. Only one order in profits data"
   ]
  },
  {
   "cell_type": "code",
   "execution_count": 342,
   "metadata": {},
   "outputs": [],
   "source": [
    "stores = stores[stores['Address'] != 'Club Costa Vida/WFSH']"
   ]
  },
  {
   "cell_type": "markdown",
   "metadata": {},
   "source": [
    "Check for stores that have a P.O. box as the address. These will be fixed manually. "
   ]
  },
  {
   "cell_type": "code",
   "execution_count": 343,
   "metadata": {},
   "outputs": [
    {
     "data": {
      "text/html": [
       "<div>\n",
       "<style scoped>\n",
       "    .dataframe tbody tr th:only-of-type {\n",
       "        vertical-align: middle;\n",
       "    }\n",
       "\n",
       "    .dataframe tbody tr th {\n",
       "        vertical-align: top;\n",
       "    }\n",
       "\n",
       "    .dataframe thead th {\n",
       "        text-align: right;\n",
       "    }\n",
       "</style>\n",
       "<table border=\"1\" class=\"dataframe\">\n",
       "  <thead>\n",
       "    <tr style=\"text-align: right;\">\n",
       "      <th></th>\n",
       "      <th>Store</th>\n",
       "      <th>Address</th>\n",
       "      <th>City</th>\n",
       "      <th>State</th>\n",
       "    </tr>\n",
       "  </thead>\n",
       "  <tbody>\n",
       "    <tr>\n",
       "      <th>30</th>\n",
       "      <td>The Tides Bait &amp; Tackle</td>\n",
       "      <td>P.O. Box 518</td>\n",
       "      <td>Bodega Bay</td>\n",
       "      <td>California</td>\n",
       "    </tr>\n",
       "    <tr>\n",
       "      <th>31</th>\n",
       "      <td>The Tides Unocal</td>\n",
       "      <td>P.O. Box 518</td>\n",
       "      <td>Bodega Bay</td>\n",
       "      <td>California</td>\n",
       "    </tr>\n",
       "  </tbody>\n",
       "</table>\n",
       "</div>"
      ],
      "text/plain": [
       "                      Store       Address        City       State\n",
       "30  The Tides Bait & Tackle  P.O. Box 518  Bodega Bay  California\n",
       "31         The Tides Unocal  P.O. Box 518  Bodega Bay  California"
      ]
     },
     "execution_count": 343,
     "metadata": {},
     "output_type": "execute_result"
    }
   ],
   "source": [
    "stores[stores['Address'].str.contains('P.O.', na=False)]"
   ]
  },
  {
   "cell_type": "markdown",
   "metadata": {},
   "source": [
    "Combine street address, city, and state to a full address."
   ]
  },
  {
   "cell_type": "code",
   "execution_count": 344,
   "metadata": {},
   "outputs": [],
   "source": [
    "stores['Full Address'] = stores['Address'] + ', ' + stores['City'] + ', ' + stores['State']"
   ]
  },
  {
   "cell_type": "code",
   "execution_count": 345,
   "metadata": {},
   "outputs": [
    {
     "data": {
      "text/html": [
       "<div>\n",
       "<style scoped>\n",
       "    .dataframe tbody tr th:only-of-type {\n",
       "        vertical-align: middle;\n",
       "    }\n",
       "\n",
       "    .dataframe tbody tr th {\n",
       "        vertical-align: top;\n",
       "    }\n",
       "\n",
       "    .dataframe thead th {\n",
       "        text-align: right;\n",
       "    }\n",
       "</style>\n",
       "<table border=\"1\" class=\"dataframe\">\n",
       "  <thead>\n",
       "    <tr style=\"text-align: right;\">\n",
       "      <th></th>\n",
       "      <th>Store</th>\n",
       "      <th>Address</th>\n",
       "      <th>City</th>\n",
       "      <th>State</th>\n",
       "      <th>Full Address</th>\n",
       "    </tr>\n",
       "  </thead>\n",
       "  <tbody>\n",
       "    <tr>\n",
       "      <th>0</th>\n",
       "      <td>Berkeley Bowl</td>\n",
       "      <td>2020 Oregon St</td>\n",
       "      <td>Berkeley</td>\n",
       "      <td>California</td>\n",
       "      <td>2020 Oregon St, Berkeley, California</td>\n",
       "    </tr>\n",
       "    <tr>\n",
       "      <th>1</th>\n",
       "      <td>Berkeley Bowl West</td>\n",
       "      <td>920 Heinz Avenue</td>\n",
       "      <td>Berkeley</td>\n",
       "      <td>California</td>\n",
       "      <td>920 Heinz Avenue, Berkeley, California</td>\n",
       "    </tr>\n",
       "    <tr>\n",
       "      <th>2</th>\n",
       "      <td>Diablo Foods-Lafeyette</td>\n",
       "      <td>3615 Mt Diablo Blvd</td>\n",
       "      <td>Lafayette</td>\n",
       "      <td>California</td>\n",
       "      <td>3615 Mt Diablo Blvd, Lafayette, California</td>\n",
       "    </tr>\n",
       "    <tr>\n",
       "      <th>3</th>\n",
       "      <td>Draeger's-Danville</td>\n",
       "      <td>291 Utah Ave.</td>\n",
       "      <td>South San Francisco</td>\n",
       "      <td>California</td>\n",
       "      <td>291 Utah Ave., South San Francisco, California</td>\n",
       "    </tr>\n",
       "    <tr>\n",
       "      <th>4</th>\n",
       "      <td>Encinal Market</td>\n",
       "      <td>3211 Encinal Ave.</td>\n",
       "      <td>Alameda</td>\n",
       "      <td>California</td>\n",
       "      <td>3211 Encinal Ave., Alameda, California</td>\n",
       "    </tr>\n",
       "  </tbody>\n",
       "</table>\n",
       "</div>"
      ],
      "text/plain": [
       "                    Store              Address                 City  \\\n",
       "0           Berkeley Bowl       2020 Oregon St             Berkeley   \n",
       "1      Berkeley Bowl West     920 Heinz Avenue             Berkeley   \n",
       "2  Diablo Foods-Lafeyette  3615 Mt Diablo Blvd            Lafayette   \n",
       "3      Draeger's-Danville        291 Utah Ave.  South San Francisco   \n",
       "4          Encinal Market    3211 Encinal Ave.              Alameda   \n",
       "\n",
       "        State                                    Full Address  \n",
       "0  California            2020 Oregon St, Berkeley, California  \n",
       "1  California          920 Heinz Avenue, Berkeley, California  \n",
       "2  California      3615 Mt Diablo Blvd, Lafayette, California  \n",
       "3  California  291 Utah Ave., South San Francisco, California  \n",
       "4  California          3211 Encinal Ave., Alameda, California  "
      ]
     },
     "execution_count": 345,
     "metadata": {},
     "output_type": "execute_result"
    }
   ],
   "source": [
    "stores.head()"
   ]
  },
  {
   "cell_type": "markdown",
   "metadata": {},
   "source": [
    "Convert to a list on dictionaries to iterate over."
   ]
  },
  {
   "cell_type": "code",
   "execution_count": 346,
   "metadata": {},
   "outputs": [
    {
     "data": {
      "text/plain": [
       "[{'Store': 'Berkeley Bowl',\n",
       "  'Address': '2020 Oregon St',\n",
       "  'City': 'Berkeley',\n",
       "  'State': 'California',\n",
       "  'Full Address': '2020 Oregon St, Berkeley, California'},\n",
       " {'Store': 'Berkeley Bowl West',\n",
       "  'Address': '920 Heinz Avenue',\n",
       "  'City': 'Berkeley',\n",
       "  'State': 'California',\n",
       "  'Full Address': '920 Heinz Avenue, Berkeley, California'}]"
      ]
     },
     "execution_count": 346,
     "metadata": {},
     "output_type": "execute_result"
    }
   ],
   "source": [
    "stores_list = stores.to_dict(orient='records')\n",
    "stores_list[:2]"
   ]
  },
  {
   "cell_type": "code",
   "execution_count": 347,
   "metadata": {},
   "outputs": [
    {
     "data": {
      "text/plain": [
       "'2020 Oregon St, Berkeley, California'"
      ]
     },
     "execution_count": 347,
     "metadata": {},
     "output_type": "execute_result"
    }
   ],
   "source": [
    "stores_list[0]['Full Address']"
   ]
  },
  {
   "cell_type": "code",
   "execution_count": 16,
   "metadata": {},
   "outputs": [
    {
     "name": "stdout",
     "output_type": "stream",
     "text": [
      "(38.3135992, -122.8759106)\n"
     ]
    }
   ],
   "source": [
    "geolocator = GoogleV3(api_key='')\n",
    "location = geolocator.geocode('12830 Valley Ford Rd., Petaluma, California')\n",
    "print((location.latitude, location.longitude))"
   ]
  },
  {
   "cell_type": "markdown",
   "metadata": {},
   "source": [
    "Instantiate an empty list. Failed queries will be added to it to examine and fix manually."
   ]
  },
  {
   "cell_type": "code",
   "execution_count": 18,
   "metadata": {},
   "outputs": [],
   "source": [
    "failed_lst = []"
   ]
  },
  {
   "cell_type": "markdown",
   "metadata": {},
   "source": [
    "Iterates over all the stores in the list. Uses geopy, GoogleV3 and the full address to find the latitude and longitude. These coordinates will be needed for the Tableau dashboard."
   ]
  },
  {
   "cell_type": "code",
   "execution_count": 19,
   "metadata": {},
   "outputs": [
    {
     "name": "stdout",
     "output_type": "stream",
     "text": [
      "ADDED: 2020 Oregon St, Berkeley, California\n",
      "ADDED: 920 Heinz Avenue, Berkeley, California\n",
      "ADDED: 3615 Mt Diablo Blvd, Lafayette, California\n",
      "ADDED: 291 Utah Ave., South San Francisco, California\n",
      "ADDED: 3211 Encinal Ave., Alameda, California\n",
      "ADDED: 3420 Fruitvale Ave., Oakland, California\n",
      "ADDED: 3501 MacArthur Blvd, Oakland, California\n",
      "ADDED: 7000 Bancroft Avenue, Oakland, California\n",
      "ADDED: 820 Sycamore Valley Rd., Danville, California\n",
      "ADDED: 5804 College Ave., Oakland, California\n",
      "ADDED: 3121 Castro Valley Blvd., Castro Valley, California\n",
      "ADDED: 2082 San Pablo Ave., Berkeley, California\n",
      "ADDED: 1582 Hopkins St., Berkeley, California\n",
      "ADDED: 1550 Hopkins Street, Berkeley, California\n",
      "ADDED: 160 Washington Ave., Richmond, California\n",
      "ADDED: 6310 College Avenue, Oakland, California\n",
      "ADDED: 155 W. Richmond Ave., Richmond, California\n",
      "ADDED: 5885 Broadway Terrace, Oakland, California\n",
      "ADDED: 2390 Powell St., Emeryville, California\n",
      "ADDED: 12830 Valley Ford Rd., Petaluma, California\n",
      "ADDED: 1275 Hwy. 1, Bodega Bay, California\n",
      "ADDED: 1850 Bay Flat Rd., Bodega Bay, California\n",
      "ADDED: 599 CA-1, Bodega Bay, California\n",
      "ADDED: 20705 Coast Hwy. #1, Jenner, California\n",
      "ADDED: 39225 CA-1, Gualala, California\n",
      "ADDED: 10444 Hwy 1, Jenner, California\n",
      "ADDED: 23125 Hwy. 1, Jenner, California\n",
      "ADDED: 1400 Hwy. 1, Bodega Bay, California\n",
      "ADDED: 1400 Hwy. 1, Bodega Bay, California\n",
      "ADDED: 39250 CA-1, Gualala, California\n",
      "ADDED: P.O. Box 518, Bodega Bay, California\n",
      "ADDED: P.O. Box 518, Bodega Bay, California\n",
      "ADDED: 14400 Hwy 1, Valley Ford, California\n",
      "ADDED: 250 Tiburon Blvd., Belvedere Tiburon, California\n",
      "ADDED: 212 Tamalpais Dr., Corte Madera, California\n",
      "ADDED: 212 Tamalpais Dr., Corte Madera, California\n",
      "ADDED: 100 Center Blvd., San Anselmo, California\n",
      "ADDED: 195 Tamal Vista Blvd, Corte Madera, California\n",
      "FAILED: 75 Loch Lomond Drive, San Rafael, California\n",
      "ADDED: 2202 Fifth Ave, San Rafael, California\n",
      "ADDED: 3060 Kerner Blvd., San Rafael, California\n",
      "ADDED: 4 Bolinas Ave, San Anselmo, California\n",
      "ADDED: 40 Wharf Road, Bolinas, California\n",
      "ADDED: 330 Bellam Blvd., San Rafael, California\n",
      "ADDED: 640 Fourth Street, San Rafael, California\n",
      "ADDED: 580 Redwood Hwy, Strawberry, California\n",
      "ADDED: 841 College Ave., Kentfield, California\n",
      "ADDED: 2080 Lakeville Highway, Petaluma, California\n",
      "ADDED: 330 Bon Air Shopping Center, Greenbrae, California\n",
      "ADDED: 1707 Grant Ave., Novato, California\n",
      "ADDED: 880 Sir Francis Drake Blvd., San Anselmo, California\n",
      "ADDED: 442 Las Gallinas Ave., San Rafael, California\n",
      "ADDED: 759 E. Blithedale, Mill Valley, California\n",
      "ADDED: 2035 Novato Blvd., Novato, California\n",
      "ADDED: 150 Donahue Street, Marin City, California\n",
      "ADDED: 242 Shoreline Hwy, Mill Valley, California\n",
      "ADDED: 200 Caledonia St., Sausalito, California\n",
      "ADDED: 101 Parkshore Dr, Ste 100, Folsom, California\n",
      "ADDED: 1492 Lincoln Ave, San Rafael, California\n",
      "ADDED: 1500 E 5th St, Benicia, California\n",
      "ADDED: 1910 Sir Francis Drake Blvd, Fairfax, California\n",
      "ADDED: 221 Second St, Sausalito, California\n",
      "ADDED: 720 Center Blvd., Fairfax, California\n",
      "ADDED: 201 Flamingo Road, Mill Valley, California\n",
      "ADDED: 300 West 15th St, Vancouver, California\n",
      "ADDED: 375 Ignacio Blvd., Novato, California\n",
      "ADDED: 12301 Sir Francis Drake Blvd, Inverness, California\n",
      "ADDED: 12784 Sir Francis Drake Blvd, Inverness, California\n",
      "ADDED: 971 Front Street, Novato, California\n",
      "ADDED: 1945 Francisco Blvd., San Rafael, California\n",
      "ADDED: 393 Miller Ave, Mill Valley, California\n",
      "ADDED: 534 Clarence Street, Point Richmond, California\n",
      "ADDED: 2656 Bridgeway, Sausalito, California\n",
      "ADDED: 1761 Grant Ave., Novato, California\n",
      "ADDED: 570 Magnolia Ave, Larkspur, California\n",
      "ADDED: 855 Third St., San Rafael, California\n",
      "ADDED: 7500 Red Hill Rd, Petaluma, California\n",
      "ADDED: 155 Marinwood Ave., San Rafael, California\n",
      "ADDED: 125 Vintage Way, Novato, California\n",
      "ADDED: 330 Bellam Blvd., San Rafael, California\n",
      "ADDED: 1102 Grant Avenue, Novato, California\n",
      "ADDED: 12 Corte Madera Ave., Mill Valley, California\n",
      "ADDED: 100 Harbor Dr., Sausalito, California\n",
      "ADDED: 270 Bon Air Shopping Center, Greenbrae, California\n",
      "ADDED: 1 Blackfield Drive, Belvedere Tiburon, California\n",
      "ADDED: 5627 Paradise  Drive, Corte Madera, California\n",
      "ADDED: 470 Ignacio Blvd., Novato, California\n",
      "ADDED: 11300 CA-1, Point Reyes Station, California\n",
      "ADDED: 1916 Sir Francis Drake Blvd, Fairfax, California\n",
      "ADDED: 7380 Redwood Blvd, Novato, California\n",
      "ADDED: 909 Lincoln Ave, San Rafael, California\n",
      "ADDED: 71 San Pablo Ave, San Rafael, California\n",
      "ADDED: 6 Hamilton Landing, Suite 100, Novato, California\n",
      "ADDED: 838 Sir Francis Drake Blvd., San Anselmo, California\n",
      "ADDED: 137 Corte Madera Town Center, Corte Madera, California\n",
      "ADDED: 100 Center Blvd., San Anselmo, California\n",
      "ADDED: 110 Strawberry Village, Mill Valley, California\n",
      "ADDED: 110 Strawberry Village, Mill Valley, California\n",
      "ADDED: 5720 Nave Dr., Novato, California\n",
      "ADDED: 700 B St., San Rafael, California\n",
      "ADDED: 1 Camino Alto, Mill Valley, California\n",
      "ADDED: 950 Las Gallinas, San Rafael, California\n",
      "ADDED: 900 Diablo Ave., Novato, California\n",
      "ADDED: 900 Diablo Ave., Novato, California\n",
      "ADDED: 71 San Pablo Ave, San Rafael, California\n",
      "ADDED: 46 Caledonia, Sausalito, California\n",
      "ADDED: 620 Freitas Parkway, San Rafael, California\n",
      "ADDED: 371 Shoreline Hwy., Mill Valley, California\n",
      "ADDED: 349 Miller Ave., Mill Valley, California\n",
      "ADDED: 650 Redwood Hwy., Mill Valley, California\n",
      "ADDED: 1901 Bridgeway Blvd., Sausalito, California\n",
      "ADDED: 925 Anderson Drive, San Rafael, California\n",
      "ADDED: 101 Smith Ranch Rd., San Rafael, California\n",
      "ADDED: Hwy. 1, Calle Del Mar, Stinson Beach, California\n",
      "ADDED: 180 Donahue St., Sausalito, California\n",
      "ADDED: 200 Vintage Way, Novato, California\n",
      "ADDED: 125 Shoreline Pkwy, San Rafael, California\n",
      "ADDED: #1 Gate 6 Rd, Sausalito, California\n",
      "ADDED: 80 4th Street, Point Reyes Station, California\n",
      "ADDED: 821 B Street, San Rafael, California\n",
      "ADDED: 1110 Magnolia Ave., Larkspur, California\n",
      "ADDED: 1556-4th St., San Rafael, California\n",
      "ADDED: 100 Red Hill Ave, San Anselmo, California\n",
      "ADDED: 515 3rd St., San Rafael, California\n",
      "FAILED: 100 Red Hill Ave, San Anselmo, California\n",
      "ADDED: 515 3rd St., San Rafael, California\n",
      "ADDED: 997 Mesa Road, Point Reyes Station, California\n",
      "ADDED: 175 San Geronimo Valley Dr, Woodacre, California\n",
      "ADDED: 1 Kent Avenue, Kentfield, California\n",
      "ADDED: 735 College Ave, Kentfield, California\n",
      "ADDED: 1550 Tiburon Blvd, Tiburon, California\n",
      "ADDED: 1551 Tiburon Blvd, Tiburon, California\n",
      "ADDED: 735 College Ave, Kentfield, California\n",
      "ADDED: 1550 Tiburon Blvd, Belvedere Tiburon, California\n",
      "ADDED: 735 College Ave., Greenbrae, California\n",
      "ADDED: 913 Sir Francis Drake Blvd., Kentfield, California\n",
      "ADDED: 1901 Bridgeway Blvd., Sausalito, California\n",
      "ADDED: 2000 Main St, St. Helena, California\n",
      "ADDED: 3263 Brown's Valley Rd., Napa, California\n",
      "ADDED: 3263 Brown's Valley Rd., Napa, California\n",
      "ADDED: 1491 Lincoln Ave., Calistoga, California\n",
      "ADDED: 1102 Tubbs Lane, Calistoga, California\n",
      "ADDED: One Angwin Ave., Angwin, California\n",
      "ADDED: 2510 State Hwy 12, Isleton, California\n",
      "ADDED: 607 St. Helena Hwy, Saint Helena, California\n",
      "ADDED: 1227 Main St., Saint Helena, California\n",
      "ADDED: 609 Hwy 12, Rio Vista, California\n",
      "ADDED: 3333 Cuttings Wharf Rd., Napa, California\n",
      "ADDED: 1200 Milton Rd., Napa, California\n",
      "ADDED: 7856 St Helena Hwy, Oakville, California\n",
      "ADDED: 1009 Foothill Blvd., Calistoga, California\n",
      "ADDED: 217 Soscol Ave., Napa, California\n",
      "ADDED: 4215 Solano, Napa, California\n",
      "ADDED: 6498 Washington St., Yountville, California\n",
      "ADDED: 3375 Jefferson Square, Napa, California\n",
      "ADDED: 1026 Hunt Ave., Saint Helena, California\n",
      "ADDED: 3375 Jefferson Square, Napa, California\n",
      "ADDED: 10 Woodland Rd., Saint Helena, California\n",
      "ADDED: 1153 Main St., Saint Helena, California\n",
      "ADDED: 1115 Main St., Saint Helena, California\n",
      "ADDED: 1111 White Lane, St. Helena, California\n",
      "ADDED: 45 Lynn Drive, Napa, California\n",
      "ADDED: 690 Los Altos Rancho, Los Altos, California\n",
      "ADDED: 3130 Alpine Rd, Portola Valley, California\n",
      "ADDED: 810 Laurel St., San Carlos, California\n",
      "ADDED: 501 Virginia Ave, Moss Beach, California\n",
      "ADDED: 3640 Florence St., Redwood City, California\n",
      "FAILED: 342 1st St, Los Altos, California\n",
      "ADDED: 1010 University Dr, Menlo Park, California\n",
      "ADDED: 222 E 4th Ave, San Mateo, California\n",
      "ADDED: 8445 Cabrillo Hwy, Montara, California\n",
      "ADDED: Key Market Admin Office, San Carlos, California\n",
      "ADDED: 3445 Alma St. #A, Palo Alto, California\n",
      "ADDED: 164 S. California, Palo Alto, California\n",
      "ADDED: 22 Bayhill Shopping Center, San Bruno, California\n",
      "ADDED: 1477 Chapman Ave., Burlingame, California\n",
      "ADDED: 49 West 42nd Avenue, San Mateo, California\n",
      "ADDED: 200 Eureka Square, Pacifica, California\n",
      "ADDED: 3922 Middlefield Rd, Palo Alto, California\n",
      "ADDED: 1218 W Hillsdale Blvd, San Mateo, California\n",
      "ADDED: 3015 Woodside Road, Woodside, California\n",
      "ADDED: 4420 Alpine Rd, Portola Valley, California\n",
      "ADDED: 101 Main Street, Half Moon Bay, California\n",
      "ADDED: 401 Ave Alhambra, Half Moon Bay, California\n",
      "ADDED: 230 Reina Del Mar Ave, Pacifica, California\n",
      "ADDED: 1015 Terra Nova Blvd, Pacifica, California\n",
      "ADDED: 1970 Naglee Ave., San Jose, California\n",
      "ADDED: 1356 Mary Avenue, Sunnyvale, California\n",
      "ADDED: 1520 Southwest Expy, San Jose, California\n",
      "ADDED: 1421 Foxworthy Ave., San Jose, California\n",
      "ADDED: 2170 Hanson Way, Woodland, California\n",
      "ADDED: 1601 Balboa St, San Francisco, California\n",
      "ADDED: 1400 Cole St, San Francisco, California\n",
      "ADDED: 2354 Clement St, San Francisco, California\n",
      "ADDED: 300 Church St., San Francisco, California\n",
      "ADDED: 4101 California St, San Francisco, California\n",
      "ADDED: 6001 California St, San Francisco, California\n",
      "ADDED: Irving & 10th, San Francisco, California\n",
      "ADDED: 1416 Haight St, San Francisco, California\n",
      "ADDED: 1200 Irving St., San Francisco, California\n",
      "ADDED: 3585 California St., San Francisco, California\n",
      "ADDED: 205 Fredrick St, San Francisco, California\n",
      "ADDED: 2449 Balboa Street, San Francisco, California\n",
      "ADDED: 3524 Balboa St., San Francisco, California\n",
      "ADDED: 3149 Balboa Street, San Francisco, California\n",
      "ADDED: 3445 California St., San Francisco, California\n",
      "ADDED: 3585 California St., San Francisco, California\n",
      "ADDED: 2815 Diamond Street, San Francisco, California\n",
      "ADDED: 1399 Church St., San Francisco, California\n",
      "ADDED: 2084 Hayes St, San Francisco, California\n",
      "ADDED: 499 Haight St, San Francisco, California\n",
      "ADDED: 377 32nd Ave., San Francisco, California\n",
      "ADDED: 701 10th Ave., San Fransisco, California\n",
      "ADDED: 601 - 2nd Ave, San Francisco, California\n",
      "ADDED: 4151 - 17th Street, San Francisco, California\n",
      "ADDED: 308 Broderick Street, San Francisco, California\n",
      "ADDED: 793 Divisadero, San Francisco, California\n",
      "ADDED: 667 Broderick St., San Francisco, California\n",
      "ADDED: 1801 Fulton St., San Francisco, California\n",
      "ADDED: 702 14th St, San Francisco, California\n",
      "ADDED: 1401 6th Ave, San Francisco, California\n",
      "FAILED: 500 Grove Street, San Francisco, California\n",
      "ADDED: 1301 Haight St., San Francisco, California\n",
      "ADDED: 501 Haight St., San Francisco, California\n",
      "ADDED: 1530  Haight Street, San Francisco, California\n",
      "ADDED: 3216 Folsom St., San Francisco, California\n",
      "ADDED: 2285 Market St., San Francisco, California\n",
      "ADDED: 191 - 8th St., San Francisco, California\n",
      "ADDED: 698 Hayes Street, San Francisco, California\n",
      "ADDED: 1192 Guerrero Street, San Francisco, California\n",
      "ADDED: 2416 Market Street, San Francisco, California\n",
      "ADDED: 501 Filmore St., San Francisco, California\n",
      "ADDED: 1900 Hayes St., San Francisco, California\n",
      "ADDED: 1589 Haight St., San Francisco, California\n",
      "ADDED: 1701 Anza St, San Francisco, California\n",
      "ADDED: 4401 Geary Blvd., San Francisco, California\n",
      "ADDED: 2395 Chestnut St., San Francisco, California\n",
      "ADDED: 2323 Chestnut St., San Francisco, California\n",
      "ADDED: 5615 Geary Blvd., San Francisco, California\n",
      "ADDED: 4201 - 18th Street, San Francisco, California\n",
      "ADDED: 635 Portola St., San Francisco, California\n",
      "ADDED: 2435 California St, San Francisco, California\n",
      "ADDED: 5701 California St, San Francisco, California\n",
      "ADDED: 4499 17th St, San Francisco, California\n",
      "ADDED: 144 Page Street, San Francisco, California\n",
      "ADDED: 1400 9th Ave, San Francisco, California\n",
      "ADDED: 200 Noe Street, San Francisco, California\n",
      "ADDED: 1601 Fulton St., San Francisco, California\n",
      "ADDED: 999 Oak Street, San Francisco, California\n",
      "ADDED: 7501 Geary Blvd, San Francisco, California\n",
      "ADDED: 588 Haight Street, San Francisco, California\n",
      "ADDED: 273 E. Harris Ave., South San Francisco, California\n",
      "ADDED: 4400 California St, San Francisco, California\n",
      "ADDED: 501 Frederick St, San Francisco, California\n",
      "ADDED: 1745 Folsom St., San Francisco, California\n",
      "ADDED: 41st & Balboa, San Francisco, California\n",
      "ADDED: 276 Noe Street, San Francisco, California\n",
      "ADDED: 500 Kirkham Street, San Francisco, California\n",
      "ADDED: 98-1/2 Sanchez St., San Francisco, California\n",
      "ADDED: 2020 Market St., San Francisco, California\n",
      "ADDED: 1200 Irving St., San Francisco, California\n",
      "ADDED: 850 La Playa, San Francisco, California\n",
      "ADDED: 735 - 7th Ave., San Francisco, California\n",
      "ADDED: 74 W. Manor Drive, Pacifica, California\n",
      "ADDED: 5100 Geary Blvd., San Francisco, California\n",
      "ADDED: Seventh & Clement, San Francisco, California\n",
      "ADDED: 1400 8th St, San Francisco, California\n",
      "ADDED: 501 Divisadero Street, San Francisco, California\n",
      "FAILED: 4751 Geary Blvd., San Francisco, California\n",
      "ADDED: 2801 Vicente Street, San Francisco, California\n",
      "ADDED: 1754 Haight St., San Francisco, California\n",
      "ADDED: 901 Haight St, San Francisco, California\n",
      "ADDED: 2400 Clement St, San Francisco, California\n",
      "ADDED: 667 Fillmore St., San Francisco, California\n",
      "ADDED: 4140 Clement, San Francisco, California\n",
      "ADDED: 201 Gough Street, San Francisco, California\n",
      "ADDED: 300 Gough Street, San Francisco, California\n",
      "ADDED: 719 Clement Street, San Francisco, California\n",
      "ADDED: 5280 Geary Blvd, San Francisco, California\n",
      "ADDED: 25 Point Lobo Ave., San Francisco, California\n",
      "ADDED: 6335 Commerce Blvd, Rohnert Park, California\n",
      "ADDED: 1691 Gravenstein Hwy., Sebastopol, California\n",
      "ADDED: 2329 Circadian Way, Santa Rosa, California\n",
      "ADDED: 9890 Main St., Monte Rio, California\n",
      "ADDED: 5290 Aero Dr., Santa Rosa, California\n",
      "ADDED: 1345 Healdsburg Ave., Healdsburg, California\n",
      "ADDED: 10315 Bodega Hwy, Sebastopol, California\n",
      "ADDED: 1105 Bodega Ave., Petaluma, California\n",
      "ADDED: 17190 Bodega Hwy, Bodega, California\n",
      "ADDED: 624 Taylor St., San Francisco, California\n",
      "ADDED: 20511 Broadway, Sonoma, California\n",
      "ADDED: 201 W Napa St Ste 35, Sonoma, California\n",
      "ADDED: 291 North McDowell Blvd., Petaluma, California\n",
      "ADDED: 365 East Washington St., Petaluma, California\n",
      "ADDED: 2771 - 4th Street, Santa Rosa, California\n",
      "ADDED: 788 Gravenstein Hwy., Sebastopol, California\n",
      "ADDED: 6378 Commerce Blvd., Rohnert Park, California\n",
      "ADDED: 463 Stony Point Rd., Santa Rosa, California\n",
      "ADDED: 2700 Yulupa Ave., Santa Rosa, California\n",
      "ADDED: 320 W. 3rd St., Santa Rosa, California\n",
      "ADDED: 5100 Lakeville Hwy., Petaluma, California\n",
      "ADDED: 6484 Mirabel Rd., Forestville, California\n",
      "ADDED: 998 Gravenstein Hwy. South, Sebastopol, California\n",
      "ADDED: 605 Rohnert Park Expressway, Rohnert Park, California\n",
      "ADDED: 2055 Sebastopol Rd, Santa Rosa, California\n",
      "ADDED: 24101 Arnold Dr., Sonoma, California\n",
      "ADDED: 13751 Arnold Dr., Glen Ellen, California\n",
      "ADDED: 13751 Arnold Dr, Glen Ellen, California\n",
      "ADDED: 13751 Arnold Dr., Glen Ellen, California\n",
      "ADDED: 3707 Occidental Rd., Occidental, California\n",
      "ADDED: 7450 Highway 128, Philo, California\n",
      "ADDED: 365 East Washington St., Petaluma, California\n",
      "ADDED: 301 S. McDowell Blvd., Petaluma, California\n",
      "ADDED: 776 Gravenstein Hwy No., Sebastopol, California\n",
      "ADDED: 939 Lakeville Hwy., Petaluma, California\n",
      "ADDED: 915 Montgomery Village Ct., Santa Rosa, California\n",
      "ADDED: 1000 Petaluma Blvd No., Petaluma, California\n",
      "ADDED: 19181 Sonoma Hwy., Sonoma, California\n",
      "ADDED: 522 Larkfield Center, Santa Rosa, California\n",
      "ADDED: 1035 2nd Street, Santa Rosa, California\n",
      "ADDED: 6550 Oakmont Dr., Santa Rosa, California\n",
      "ADDED: 124 Matheson St, Healdsburg, California\n",
      "ADDED: 546 East Cotati Ave., Cotati, California\n",
      "ADDED: 560 Montecito Blvd., Santa Rosa, California\n",
      "FAILED: 546 E Cotati Ave, Cotati, California\n",
      "ADDED: 560 Montecito Center, Santa Rosa, California\n",
      "ADDED: 9230 Old Redwood Hwy, Windsor, California\n",
      "ADDED: 1721 Ditty Ave., Santa Rosa, California\n",
      "ADDED: 461 Stony Point Rd., Santa Rosa, California\n",
      "ADDED: 1721 Ditty Ave., Santa Rosa, California\n",
      "ADDED: 9230 Old Redwood Hwy, Windsor, California\n",
      "ADDED: 550 Gravenstein Hwy N., Sebastopol, California\n",
      "ADDED: 1465 Town & Country Dr., Santa Rosa, California\n",
      "ADDED: 210 Western Ave., Petaluma, California\n",
      "ADDED: 438 - 1st Street, Santa Rosa, California\n",
      "ADDED: 157 N. McDowell Blvd., Petaluma, California\n",
      "ADDED: 100 Raley's Town Center, Rohnert Park, California\n",
      "ADDED: 1407 Fulton Rd., Santa Rosa, California\n",
      "ADDED: 8852 Lakewood Dr., Windsor, California\n",
      "ADDED: 201 W. Napa St, Sonoma, California\n",
      "ADDED: 21015 Geyserville Ave, Geyserville, California\n",
      "ADDED: 1201 Piner Rd., Santa Rosa, California\n",
      "ADDED: 640 Sebastopol Rd., Santa Rosa, California\n",
      "ADDED: 10070 San Pablo Ave, El Cerrito, California\n",
      "ADDED: 6868 McKinley St, Sebastopol, California\n",
      "ADDED: 2785 Yulupa Ave., Santa Rosa, California\n",
      "ADDED: 2751 Fourth Street, Santa Rosa, California\n",
      "ADDED: 16405 River Road, Guerneville, California\n",
      "ADDED: 701 Sonoma Mountain Pkwy, Petaluma, California\n",
      "ADDED: 1211 W. College Ave., Santa Rosa, California\n",
      "ADDED: 100 Calistoga Rd., Santa Rosa, California\n",
      "ADDED: 1799 Marlow Road, Santa Rosa, California\n",
      "ADDED: 477 W. Napa St., Sonoma, California\n",
      "ADDED: 6340 Commerce Blvd., Rohnert Park, California\n",
      "ADDED: 406 N Main St., Sebastopol, California\n",
      "ADDED: 389 So. McDowell Blvd., Petaluma, California\n",
      "ADDED: 1382 Gravenstein Hwy. South, Sebastopol, California\n",
      "ADDED: 860 Perry Lane, Petaluma, California\n",
      "ADDED: 428 Center Street, Healdsburg, California\n",
      "ADDED: 429 N. McDowell Blvd., Petaluma, California\n",
      "ADDED: 2805 Santa Rosa Avenue, Santa Rosa, California\n",
      "ADDED: 2 Spain St., Sonoma, California\n",
      "ADDED: 500 W Napa St, Sonoma, California\n",
      "ADDED: 501 W Napa St, Sonoma, California\n",
      "ADDED: 1190 East Napa Street, Sonoma, California\n",
      "ADDED: 301 Mountain View Ave, Petaluma, California\n",
      "ADDED: 7891 Mirabel Road, Forestville, California\n",
      "ADDED: 220 Elliott Ave., Santa Rosa, California\n",
      "ADDED: Petaluma Campus, Petaluma, California\n",
      "ADDED: 900 Coddingtown Center, Santa Rosa, California\n",
      "ADDED: 401 Kenilworth Dr., Petaluma, California\n",
      "ADDED: 475 Rohnert Pk Express Way, Rohnert Park, California\n",
      "ADDED: 1980 Santa Rosa Ave., Santa Rosa, California\n",
      "ADDED: 15025 River Road, Guerneville, California\n",
      "ADDED: 910 Baywood, Petaluma, California\n",
      "ADDED: 901 Golf Course Dr, Rohnert Park, California\n",
      "ADDED: 4625 Redwood Dr, Rohnert Park, California\n",
      "ADDED: 455 Center St, Healdsburg, California\n",
      "ADDED: 2075 Mendocino Ave., Santa Rosa, California\n",
      "ADDED: 9030 Brooks Rd. S, Windsor, California\n",
      "ADDED: 455 Center St, Healdsburg, California\n",
      "ADDED: 150 Bicentennial, Santa Rosa, California\n",
      "ADDED: 150 Bicentennial, Santa Rosa, California\n",
      "ADDED: 8852 Lakewood Dr., Windsor, California\n",
      "ADDED: 9080 Brooks Rd., Windsor, California\n",
      "ADDED: 2300 Mendocino Ave., Santa Rosa, California\n",
      "ADDED: 1115 Vine St., Healdsburg, California\n",
      "ADDED: 6650 Hembree Ln, Windsor, California\n"
     ]
    }
   ],
   "source": [
    "# for store in stores_list:\n",
    "    \n",
    "#     try:\n",
    "#         location = geolocator.geocode(store['Full Address'])\n",
    "\n",
    "#         store['lat'] = location.latitude\n",
    "#         store['lon'] = location.longitude\n",
    "#         print(f\"ADDED: {store['Full Address']}\") \n",
    "    \n",
    "#     except:\n",
    "#         failed_lst.append(store['Full Address'])\n",
    "#         print(f\"FAILED: {store['Full Address']}\")\n",
    "\n",
    "#     sleep(1)"
   ]
  },
  {
   "cell_type": "code",
   "execution_count": 348,
   "metadata": {},
   "outputs": [
    {
     "data": {
      "text/plain": [
       "6"
      ]
     },
     "execution_count": 348,
     "metadata": {},
     "output_type": "execute_result"
    }
   ],
   "source": [
    "len(failed_lst)"
   ]
  },
  {
   "cell_type": "markdown",
   "metadata": {},
   "source": [
    "Coordinates will be retrieved for these addresses manually."
   ]
  },
  {
   "cell_type": "code",
   "execution_count": 349,
   "metadata": {},
   "outputs": [
    {
     "data": {
      "text/plain": [
       "['75 Loch Lomond Drive, San Rafael, California',\n",
       " '100 Red Hill Ave, San Anselmo, California',\n",
       " '342 1st St, Los Altos, California',\n",
       " '500 Grove Street, San Francisco, California',\n",
       " '4751 Geary Blvd., San Francisco, California',\n",
       " '546 E Cotati Ave, Cotati, California']"
      ]
     },
     "execution_count": 349,
     "metadata": {},
     "output_type": "execute_result"
    }
   ],
   "source": [
    "failed_lst"
   ]
  },
  {
   "cell_type": "markdown",
   "metadata": {},
   "source": [
    "Save stores to csv to edit manually"
   ]
  },
  {
   "cell_type": "code",
   "execution_count": 350,
   "metadata": {},
   "outputs": [],
   "source": [
    "pd.DataFrame(stores_list).to_csv('../data/store_coords.csv', index=False)"
   ]
  },
  {
   "cell_type": "markdown",
   "metadata": {},
   "source": [
    "Read in completed store coords file"
   ]
  },
  {
   "cell_type": "code",
   "execution_count": 396,
   "metadata": {},
   "outputs": [
    {
     "data": {
      "text/html": [
       "<div>\n",
       "<style scoped>\n",
       "    .dataframe tbody tr th:only-of-type {\n",
       "        vertical-align: middle;\n",
       "    }\n",
       "\n",
       "    .dataframe tbody tr th {\n",
       "        vertical-align: top;\n",
       "    }\n",
       "\n",
       "    .dataframe thead th {\n",
       "        text-align: right;\n",
       "    }\n",
       "</style>\n",
       "<table border=\"1\" class=\"dataframe\">\n",
       "  <thead>\n",
       "    <tr style=\"text-align: right;\">\n",
       "      <th></th>\n",
       "      <th>Store</th>\n",
       "      <th>Address</th>\n",
       "      <th>City</th>\n",
       "      <th>State</th>\n",
       "      <th>Full Address</th>\n",
       "      <th>lat</th>\n",
       "      <th>lon</th>\n",
       "    </tr>\n",
       "  </thead>\n",
       "  <tbody>\n",
       "    <tr>\n",
       "      <th>0</th>\n",
       "      <td>Berkeley Bowl</td>\n",
       "      <td>2020 Oregon St</td>\n",
       "      <td>Berkeley</td>\n",
       "      <td>California</td>\n",
       "      <td>2020 Oregon St, Berkeley, California</td>\n",
       "      <td>37.857113</td>\n",
       "      <td>-122.267250</td>\n",
       "    </tr>\n",
       "    <tr>\n",
       "      <th>1</th>\n",
       "      <td>Berkeley Bowl West</td>\n",
       "      <td>920 Heinz Avenue</td>\n",
       "      <td>Berkeley</td>\n",
       "      <td>California</td>\n",
       "      <td>920 Heinz Avenue, Berkeley, California</td>\n",
       "      <td>37.853534</td>\n",
       "      <td>-122.290376</td>\n",
       "    </tr>\n",
       "    <tr>\n",
       "      <th>2</th>\n",
       "      <td>Diablo Foods-Lafeyette</td>\n",
       "      <td>3615 Mt Diablo Blvd</td>\n",
       "      <td>Lafayette</td>\n",
       "      <td>California</td>\n",
       "      <td>3615 Mt Diablo Blvd, Lafayette, California</td>\n",
       "      <td>37.890698</td>\n",
       "      <td>-122.124482</td>\n",
       "    </tr>\n",
       "    <tr>\n",
       "      <th>3</th>\n",
       "      <td>Draeger's-Danville</td>\n",
       "      <td>291 Utah Ave.</td>\n",
       "      <td>South San Francisco</td>\n",
       "      <td>California</td>\n",
       "      <td>291 Utah Ave., South San Francisco, California</td>\n",
       "      <td>37.647738</td>\n",
       "      <td>-122.394870</td>\n",
       "    </tr>\n",
       "    <tr>\n",
       "      <th>4</th>\n",
       "      <td>Encinal Market</td>\n",
       "      <td>3211 Encinal Ave.</td>\n",
       "      <td>Alameda</td>\n",
       "      <td>California</td>\n",
       "      <td>3211 Encinal Ave., Alameda, California</td>\n",
       "      <td>37.756290</td>\n",
       "      <td>-122.233672</td>\n",
       "    </tr>\n",
       "  </tbody>\n",
       "</table>\n",
       "</div>"
      ],
      "text/plain": [
       "                    Store              Address                 City  \\\n",
       "0           Berkeley Bowl       2020 Oregon St             Berkeley   \n",
       "1      Berkeley Bowl West     920 Heinz Avenue             Berkeley   \n",
       "2  Diablo Foods-Lafeyette  3615 Mt Diablo Blvd            Lafayette   \n",
       "3      Draeger's-Danville        291 Utah Ave.  South San Francisco   \n",
       "4          Encinal Market    3211 Encinal Ave.              Alameda   \n",
       "\n",
       "        State                                    Full Address        lat  \\\n",
       "0  California            2020 Oregon St, Berkeley, California  37.857113   \n",
       "1  California          920 Heinz Avenue, Berkeley, California  37.853534   \n",
       "2  California      3615 Mt Diablo Blvd, Lafayette, California  37.890698   \n",
       "3  California  291 Utah Ave., South San Francisco, California  37.647738   \n",
       "4  California          3211 Encinal Ave., Alameda, California  37.756290   \n",
       "\n",
       "          lon  \n",
       "0 -122.267250  \n",
       "1 -122.290376  \n",
       "2 -122.124482  \n",
       "3 -122.394870  \n",
       "4 -122.233672  "
      ]
     },
     "execution_count": 396,
     "metadata": {},
     "output_type": "execute_result"
    }
   ],
   "source": [
    "store_coords = pd.read_csv('../data/store_coords_final.csv')\n",
    "store_coords.head()"
   ]
  },
  {
   "cell_type": "code",
   "execution_count": 397,
   "metadata": {},
   "outputs": [
    {
     "data": {
      "text/plain": [
       "Store           0\n",
       "Address         0\n",
       "City            0\n",
       "State           0\n",
       "Full Address    0\n",
       "lat             0\n",
       "lon             0\n",
       "dtype: int64"
      ]
     },
     "execution_count": 397,
     "metadata": {},
     "output_type": "execute_result"
    }
   ],
   "source": [
    "store_coords.isna().sum()"
   ]
  },
  {
   "cell_type": "markdown",
   "metadata": {},
   "source": [
    "## Products"
   ]
  },
  {
   "cell_type": "code",
   "execution_count": 398,
   "metadata": {},
   "outputs": [
    {
     "data": {
      "text/html": [
       "<div>\n",
       "<style scoped>\n",
       "    .dataframe tbody tr th:only-of-type {\n",
       "        vertical-align: middle;\n",
       "    }\n",
       "\n",
       "    .dataframe tbody tr th {\n",
       "        vertical-align: top;\n",
       "    }\n",
       "\n",
       "    .dataframe thead th {\n",
       "        text-align: right;\n",
       "    }\n",
       "</style>\n",
       "<table border=\"1\" class=\"dataframe\">\n",
       "  <thead>\n",
       "    <tr style=\"text-align: right;\">\n",
       "      <th></th>\n",
       "      <th>territory</th>\n",
       "      <th>sold_to_name</th>\n",
       "      <th>item_description</th>\n",
       "      <th>item_type</th>\n",
       "      <th>quantity</th>\n",
       "      <th>price</th>\n",
       "      <th>date</th>\n",
       "    </tr>\n",
       "  </thead>\n",
       "  <tbody>\n",
       "    <tr>\n",
       "      <th>0</th>\n",
       "      <td>EB</td>\n",
       "      <td>Monterey Foods Market</td>\n",
       "      <td>Have'a Corn Chips</td>\n",
       "      <td>Chips</td>\n",
       "      <td>48.0</td>\n",
       "      <td>76.80</td>\n",
       "      <td>2017-01-01</td>\n",
       "    </tr>\n",
       "    <tr>\n",
       "      <th>1</th>\n",
       "      <td>SF</td>\n",
       "      <td>Madera Liquor</td>\n",
       "      <td>Have'a Corn Chips</td>\n",
       "      <td>Chips</td>\n",
       "      <td>12.0</td>\n",
       "      <td>19.20</td>\n",
       "      <td>2017-01-01</td>\n",
       "    </tr>\n",
       "    <tr>\n",
       "      <th>2</th>\n",
       "      <td>MR</td>\n",
       "      <td>Mollie Stone #1-Sausalito</td>\n",
       "      <td>Casa Linda Enchilada Sauce</td>\n",
       "      <td>Sauce</td>\n",
       "      <td>12.0</td>\n",
       "      <td>42.12</td>\n",
       "      <td>2017-01-01</td>\n",
       "    </tr>\n",
       "    <tr>\n",
       "      <th>3</th>\n",
       "      <td>SF</td>\n",
       "      <td>Fulton &amp; Brodrick</td>\n",
       "      <td>Loacker Kakao Cookies</td>\n",
       "      <td>Cookie</td>\n",
       "      <td>4.0</td>\n",
       "      <td>14.28</td>\n",
       "      <td>2017-01-01</td>\n",
       "    </tr>\n",
       "    <tr>\n",
       "      <th>4</th>\n",
       "      <td>MR</td>\n",
       "      <td>Mollie Stone #1-Sausalito</td>\n",
       "      <td>Andy's Rub - 7 oz</td>\n",
       "      <td>Spice</td>\n",
       "      <td>12.0</td>\n",
       "      <td>64.92</td>\n",
       "      <td>2017-01-01</td>\n",
       "    </tr>\n",
       "  </tbody>\n",
       "</table>\n",
       "</div>"
      ],
      "text/plain": [
       "  territory               sold_to_name            item_description item_type  \\\n",
       "0        EB      Monterey Foods Market           Have'a Corn Chips     Chips   \n",
       "1        SF              Madera Liquor           Have'a Corn Chips     Chips   \n",
       "2        MR  Mollie Stone #1-Sausalito  Casa Linda Enchilada Sauce     Sauce   \n",
       "3        SF          Fulton & Brodrick       Loacker Kakao Cookies    Cookie   \n",
       "4        MR  Mollie Stone #1-Sausalito           Andy's Rub - 7 oz     Spice   \n",
       "\n",
       "   quantity  price        date  \n",
       "0      48.0  76.80  2017-01-01  \n",
       "1      12.0  19.20  2017-01-01  \n",
       "2      12.0  42.12  2017-01-01  \n",
       "3       4.0  14.28  2017-01-01  \n",
       "4      12.0  64.92  2017-01-01  "
      ]
     },
     "execution_count": 398,
     "metadata": {},
     "output_type": "execute_result"
    }
   ],
   "source": [
    "products.head()"
   ]
  },
  {
   "cell_type": "markdown",
   "metadata": {},
   "source": [
    "Fixing store names"
   ]
  },
  {
   "cell_type": "code",
   "execution_count": 399,
   "metadata": {},
   "outputs": [
    {
     "name": "stderr",
     "output_type": "stream",
     "text": [
      "C:\\Users\\ncox0\\AppData\\Local\\Temp/ipykernel_3044/2583582292.py:1: FutureWarning: The default value of regex will change from True to False in a future version.\n",
      "  products['sold_to_name'] = products['sold_to_name'].str.replace('Harvest Urban Market-8th St.', 'Harvest Urban Mkt-8th St.')\n"
     ]
    }
   ],
   "source": [
    "products['sold_to_name'] = products['sold_to_name'].str.replace('Harvest Urban Market-8th St.', 'Harvest Urban Mkt-8th St.')\n",
    "products['sold_to_name'] = products['sold_to_name'].str.replace('Zanottos Family Mkt - Naglee', 'Zanottos - Naglee')\n",
    "products['sold_to_name'] = products['sold_to_name'].str.replace(\"Guigni's Deli\", \"Giugni's Grocery\")"
   ]
  },
  {
   "cell_type": "markdown",
   "metadata": {},
   "source": [
    "Merging products and store addresses"
   ]
  },
  {
   "cell_type": "code",
   "execution_count": 400,
   "metadata": {},
   "outputs": [
    {
     "data": {
      "text/html": [
       "<div>\n",
       "<style scoped>\n",
       "    .dataframe tbody tr th:only-of-type {\n",
       "        vertical-align: middle;\n",
       "    }\n",
       "\n",
       "    .dataframe tbody tr th {\n",
       "        vertical-align: top;\n",
       "    }\n",
       "\n",
       "    .dataframe thead th {\n",
       "        text-align: right;\n",
       "    }\n",
       "</style>\n",
       "<table border=\"1\" class=\"dataframe\">\n",
       "  <thead>\n",
       "    <tr style=\"text-align: right;\">\n",
       "      <th></th>\n",
       "      <th>territory</th>\n",
       "      <th>sold_to_name</th>\n",
       "      <th>item_description</th>\n",
       "      <th>item_type</th>\n",
       "      <th>quantity</th>\n",
       "      <th>price</th>\n",
       "      <th>date</th>\n",
       "      <th>Store</th>\n",
       "      <th>Address</th>\n",
       "      <th>City</th>\n",
       "      <th>State</th>\n",
       "      <th>Full Address</th>\n",
       "      <th>lat</th>\n",
       "      <th>lon</th>\n",
       "    </tr>\n",
       "  </thead>\n",
       "  <tbody>\n",
       "    <tr>\n",
       "      <th>0</th>\n",
       "      <td>EB</td>\n",
       "      <td>Monterey Foods Market</td>\n",
       "      <td>Have'a Corn Chips</td>\n",
       "      <td>Chips</td>\n",
       "      <td>48.0</td>\n",
       "      <td>76.80</td>\n",
       "      <td>2017-01-01</td>\n",
       "      <td>Monterey Foods Market</td>\n",
       "      <td>1550 Hopkins Street</td>\n",
       "      <td>Berkeley</td>\n",
       "      <td>California</td>\n",
       "      <td>1550 Hopkins Street, Berkeley, California</td>\n",
       "      <td>37.881133</td>\n",
       "      <td>-122.282269</td>\n",
       "    </tr>\n",
       "    <tr>\n",
       "      <th>1</th>\n",
       "      <td>SF</td>\n",
       "      <td>Madera Liquor</td>\n",
       "      <td>Have'a Corn Chips</td>\n",
       "      <td>Chips</td>\n",
       "      <td>12.0</td>\n",
       "      <td>19.20</td>\n",
       "      <td>2017-01-01</td>\n",
       "      <td>Madera Liquor</td>\n",
       "      <td>4401 Geary Blvd.</td>\n",
       "      <td>San Francisco</td>\n",
       "      <td>California</td>\n",
       "      <td>4401 Geary Blvd., San Francisco, California</td>\n",
       "      <td>37.780738</td>\n",
       "      <td>-122.466572</td>\n",
       "    </tr>\n",
       "    <tr>\n",
       "      <th>2</th>\n",
       "      <td>MR</td>\n",
       "      <td>Mollie Stone #1-Sausalito</td>\n",
       "      <td>Casa Linda Enchilada Sauce</td>\n",
       "      <td>Sauce</td>\n",
       "      <td>12.0</td>\n",
       "      <td>42.12</td>\n",
       "      <td>2017-01-01</td>\n",
       "      <td>Mollie Stone #1-Sausalito</td>\n",
       "      <td>100 Harbor Dr.</td>\n",
       "      <td>Sausalito</td>\n",
       "      <td>California</td>\n",
       "      <td>100 Harbor Dr., Sausalito, California</td>\n",
       "      <td>37.866654</td>\n",
       "      <td>-122.499525</td>\n",
       "    </tr>\n",
       "    <tr>\n",
       "      <th>3</th>\n",
       "      <td>SF</td>\n",
       "      <td>Fulton &amp; Brodrick</td>\n",
       "      <td>Loacker Kakao Cookies</td>\n",
       "      <td>Cookie</td>\n",
       "      <td>4.0</td>\n",
       "      <td>14.28</td>\n",
       "      <td>2017-01-01</td>\n",
       "      <td>Fulton &amp; Brodrick</td>\n",
       "      <td>667 Broderick St.</td>\n",
       "      <td>San Francisco</td>\n",
       "      <td>California</td>\n",
       "      <td>667 Broderick St., San Francisco, California</td>\n",
       "      <td>37.776500</td>\n",
       "      <td>-122.440101</td>\n",
       "    </tr>\n",
       "    <tr>\n",
       "      <th>4</th>\n",
       "      <td>MR</td>\n",
       "      <td>Mollie Stone #1-Sausalito</td>\n",
       "      <td>Andy's Rub - 7 oz</td>\n",
       "      <td>Spice</td>\n",
       "      <td>12.0</td>\n",
       "      <td>64.92</td>\n",
       "      <td>2017-01-01</td>\n",
       "      <td>Mollie Stone #1-Sausalito</td>\n",
       "      <td>100 Harbor Dr.</td>\n",
       "      <td>Sausalito</td>\n",
       "      <td>California</td>\n",
       "      <td>100 Harbor Dr., Sausalito, California</td>\n",
       "      <td>37.866654</td>\n",
       "      <td>-122.499525</td>\n",
       "    </tr>\n",
       "  </tbody>\n",
       "</table>\n",
       "</div>"
      ],
      "text/plain": [
       "  territory               sold_to_name            item_description item_type  \\\n",
       "0        EB      Monterey Foods Market           Have'a Corn Chips     Chips   \n",
       "1        SF              Madera Liquor           Have'a Corn Chips     Chips   \n",
       "2        MR  Mollie Stone #1-Sausalito  Casa Linda Enchilada Sauce     Sauce   \n",
       "3        SF          Fulton & Brodrick       Loacker Kakao Cookies    Cookie   \n",
       "4        MR  Mollie Stone #1-Sausalito           Andy's Rub - 7 oz     Spice   \n",
       "\n",
       "   quantity  price        date                      Store  \\\n",
       "0      48.0  76.80  2017-01-01      Monterey Foods Market   \n",
       "1      12.0  19.20  2017-01-01              Madera Liquor   \n",
       "2      12.0  42.12  2017-01-01  Mollie Stone #1-Sausalito   \n",
       "3       4.0  14.28  2017-01-01          Fulton & Brodrick   \n",
       "4      12.0  64.92  2017-01-01  Mollie Stone #1-Sausalito   \n",
       "\n",
       "               Address           City       State  \\\n",
       "0  1550 Hopkins Street       Berkeley  California   \n",
       "1     4401 Geary Blvd.  San Francisco  California   \n",
       "2       100 Harbor Dr.      Sausalito  California   \n",
       "3    667 Broderick St.  San Francisco  California   \n",
       "4       100 Harbor Dr.      Sausalito  California   \n",
       "\n",
       "                                   Full Address        lat         lon  \n",
       "0     1550 Hopkins Street, Berkeley, California  37.881133 -122.282269  \n",
       "1   4401 Geary Blvd., San Francisco, California  37.780738 -122.466572  \n",
       "2         100 Harbor Dr., Sausalito, California  37.866654 -122.499525  \n",
       "3  667 Broderick St., San Francisco, California  37.776500 -122.440101  \n",
       "4         100 Harbor Dr., Sausalito, California  37.866654 -122.499525  "
      ]
     },
     "execution_count": 400,
     "metadata": {},
     "output_type": "execute_result"
    }
   ],
   "source": [
    "df_products = pd.merge(\n",
    "    products, \n",
    "    store_coords, \n",
    "    left_on='sold_to_name',\n",
    "    right_on='Store',\n",
    "    how='left'\n",
    ")\n",
    "\n",
    "df_products.head()"
   ]
  },
  {
   "cell_type": "code",
   "execution_count": 401,
   "metadata": {},
   "outputs": [],
   "source": [
    "df_products.drop_duplicates(inplace=True)"
   ]
  },
  {
   "cell_type": "code",
   "execution_count": 402,
   "metadata": {},
   "outputs": [
    {
     "data": {
      "text/plain": [
       "(255305, 255381)"
      ]
     },
     "execution_count": 402,
     "metadata": {},
     "output_type": "execute_result"
    }
   ],
   "source": [
    "len(products), len(df_products)"
   ]
  },
  {
   "cell_type": "code",
   "execution_count": 403,
   "metadata": {},
   "outputs": [
    {
     "data": {
      "text/plain": [
       "territory           0\n",
       "sold_to_name        0\n",
       "item_description    0\n",
       "item_type           0\n",
       "quantity            0\n",
       "price               0\n",
       "date                0\n",
       "Store               0\n",
       "Address             0\n",
       "City                0\n",
       "State               0\n",
       "Full Address        0\n",
       "lat                 0\n",
       "lon                 0\n",
       "dtype: int64"
      ]
     },
     "execution_count": 403,
     "metadata": {},
     "output_type": "execute_result"
    }
   ],
   "source": [
    "df_products.isna().sum()"
   ]
  },
  {
   "cell_type": "code",
   "execution_count": 404,
   "metadata": {},
   "outputs": [],
   "source": [
    "df_products.to_csv('../data/products_locations.csv', index=False)"
   ]
  },
  {
   "cell_type": "markdown",
   "metadata": {},
   "source": [
    "## Profits"
   ]
  },
  {
   "cell_type": "code",
   "execution_count": 405,
   "metadata": {},
   "outputs": [
    {
     "data": {
      "text/html": [
       "<div>\n",
       "<style scoped>\n",
       "    .dataframe tbody tr th:only-of-type {\n",
       "        vertical-align: middle;\n",
       "    }\n",
       "\n",
       "    .dataframe tbody tr th {\n",
       "        vertical-align: top;\n",
       "    }\n",
       "\n",
       "    .dataframe thead th {\n",
       "        text-align: right;\n",
       "    }\n",
       "</style>\n",
       "<table border=\"1\" class=\"dataframe\">\n",
       "  <thead>\n",
       "    <tr style=\"text-align: right;\">\n",
       "      <th></th>\n",
       "      <th>sold_to_name</th>\n",
       "      <th>product_line</th>\n",
       "      <th>quantity</th>\n",
       "      <th>gross_profit</th>\n",
       "      <th>territory</th>\n",
       "      <th>date</th>\n",
       "    </tr>\n",
       "  </thead>\n",
       "  <tbody>\n",
       "    <tr>\n",
       "      <th>0</th>\n",
       "      <td>Farmer Joe's - Fruitvale Ave.</td>\n",
       "      <td>DCD</td>\n",
       "      <td>1941.0</td>\n",
       "      <td>2006.37</td>\n",
       "      <td>EB</td>\n",
       "      <td>2017-01-01</td>\n",
       "    </tr>\n",
       "    <tr>\n",
       "      <th>1</th>\n",
       "      <td>Seven Eleven-Redwood Hwy,M.V.</td>\n",
       "      <td>DCD</td>\n",
       "      <td>120.0</td>\n",
       "      <td>37.92</td>\n",
       "      <td>MR</td>\n",
       "      <td>2017-01-01</td>\n",
       "    </tr>\n",
       "    <tr>\n",
       "      <th>2</th>\n",
       "      <td>Nugget - #15 Corte Madera</td>\n",
       "      <td>DCD</td>\n",
       "      <td>144.0</td>\n",
       "      <td>32.85</td>\n",
       "      <td>MR</td>\n",
       "      <td>2017-01-01</td>\n",
       "    </tr>\n",
       "    <tr>\n",
       "      <th>3</th>\n",
       "      <td>Nugget - #15 Corte Madera</td>\n",
       "      <td>DCD</td>\n",
       "      <td>57.0</td>\n",
       "      <td>45.41</td>\n",
       "      <td>MR</td>\n",
       "      <td>2017-01-01</td>\n",
       "    </tr>\n",
       "    <tr>\n",
       "      <th>4</th>\n",
       "      <td>Nugget - #16 Novato</td>\n",
       "      <td>DCD</td>\n",
       "      <td>165.0</td>\n",
       "      <td>53.76</td>\n",
       "      <td>MR</td>\n",
       "      <td>2017-01-01</td>\n",
       "    </tr>\n",
       "  </tbody>\n",
       "</table>\n",
       "</div>"
      ],
      "text/plain": [
       "                    sold_to_name product_line  quantity  gross_profit  \\\n",
       "0  Farmer Joe's - Fruitvale Ave.          DCD    1941.0       2006.37   \n",
       "1  Seven Eleven-Redwood Hwy,M.V.          DCD     120.0         37.92   \n",
       "2      Nugget - #15 Corte Madera          DCD     144.0         32.85   \n",
       "3      Nugget - #15 Corte Madera          DCD      57.0         45.41   \n",
       "4            Nugget - #16 Novato          DCD     165.0         53.76   \n",
       "\n",
       "  territory        date  \n",
       "0        EB  2017-01-01  \n",
       "1        MR  2017-01-01  \n",
       "2        MR  2017-01-01  \n",
       "3        MR  2017-01-01  \n",
       "4        MR  2017-01-01  "
      ]
     },
     "execution_count": 405,
     "metadata": {},
     "output_type": "execute_result"
    }
   ],
   "source": [
    "profits.head()"
   ]
  },
  {
   "cell_type": "code",
   "execution_count": 406,
   "metadata": {},
   "outputs": [
    {
     "name": "stderr",
     "output_type": "stream",
     "text": [
      "C:\\Users\\ncox0\\AppData\\Local\\Temp/ipykernel_3044/116638897.py:1: FutureWarning: The default value of regex will change from True to False in a future version.\n",
      "  profits['sold_to_name'] = profits['sold_to_name'].str.replace('Harvest Urban Market-8th St.', 'Harvest Urban Mkt-8th St.')\n"
     ]
    }
   ],
   "source": [
    "profits['sold_to_name'] = profits['sold_to_name'].str.replace('Harvest Urban Market-8th St.', 'Harvest Urban Mkt-8th St.')\n",
    "profits['sold_to_name'] = profits['sold_to_name'].str.replace('Zanottos Family Mkt - Naglee', 'Zanottos - Naglee')\n",
    "profits['sold_to_name'] = profits['sold_to_name'].str.replace(\"Guigni's Deli\", \"Giugni's Grocery\")\n",
    "\n",
    "profits['sold_to_name'] = profits['sold_to_name'].str.replace('Safeway #2718-Mill Valley', 'Safeway #2718-Strawberry')\n",
    "profits['sold_to_name'] = profits['sold_to_name'].str.replace('Safeway #2781-Mill Valley', 'Safeway #2718-Strawberry')\n",
    "\n",
    "profits['sold_to_name'] = profits['sold_to_name'].str.replace('Safeway #979 Novato', 'Safeway #979-Diablo Ave,Nov.')"
   ]
  },
  {
   "cell_type": "code",
   "execution_count": 407,
   "metadata": {},
   "outputs": [],
   "source": [
    "profits['sold_to_name'] = profits['sold_to_name'].str.replace('76 Stn - Ignacio', 'Ignacio Gas/76 Stn')\n",
    "profits['sold_to_name'] = profits['sold_to_name'].str.replace('Circle K - 76 Stn (Ignacio)', 'Ignacio Gas/76 Stn', regex=False)\n",
    "profits['sold_to_name'] = profits['sold_to_name'].str.replace('Bartletts General Store', 'Bartletts Market')\n",
    "profits['sold_to_name'] = profits['sold_to_name'].str.replace('Berk Bowl E - Asian Dept', 'Berkeley Bowl')\n",
    "profits['sold_to_name'] = profits['sold_to_name'].str.replace('Berk Bowl W - Asian Dept', 'Berkeley Bowl West')\n",
    "profits['sold_to_name'] = profits['sold_to_name'].str.replace(\"Jules Thin Crust Oakland\", \"Jules Thin Crust-Oakland\")\n",
    "profits['sold_to_name'] = profits['sold_to_name'].str.replace(\"Oliver's-Windsor\", \"Oliver's- Windsor\")\n",
    "profits['sold_to_name'] = profits['sold_to_name'].str.replace(\"Perry's-Inverness\", \"Inverness Park Market\")\n",
    "profits['sold_to_name'] = profits['sold_to_name'].str.replace(\"Safeway #2456-NEW Petaluma\", \"Safeway #2456-Son Mtn Pkwy\")\n",
    "profits['sold_to_name'] = profits['sold_to_name'].str.replace(\"Safeway #2457-NEW SR College\", \"Safeway #2457-W. College Ave\")\n",
    "profits['sold_to_name'] = profits['sold_to_name'].str.replace(\"Safeway #2457-W. College Ave.\", \"Safeway #2457-W. College Ave\", regex=False)\n",
    "profits['sold_to_name'] = profits['sold_to_name'].str.replace(\"Safeway #2828-Novato\", \"Safeway #2828-Ignacio\")\n",
    "profits['sold_to_name'] = profits['sold_to_name'].str.replace(\"Safeway#3011-Petaluma\", \"Safeway#3011-S. McDowell\")\n",
    "profits['sold_to_name'] = profits['sold_to_name'].str.replace(\"Target-Sausalito\", \"Target-Marin City\")\n",
    "profits['sold_to_name'] = profits['sold_to_name'].str.replace(\"United Liquors-Larkspur\", \"United Liq/Gather Wine-Lrkspr\")\n",
    "profits['sold_to_name'] = profits['sold_to_name'].str.replace(\"Walia's Valero\", \"Walia's Fuel\")\n",
    "profits['sold_to_name'] = profits['sold_to_name'].str.replace(\"Mollie Stone-San Francisco\", \"Mollie Stone #8-Tower Mkt.\")"
   ]
  },
  {
   "cell_type": "code",
   "execution_count": 408,
   "metadata": {},
   "outputs": [],
   "source": [
    "profits['sold_to_name'] = profits['sold_to_name'].map(lambda x: re.sub(\"Ernie's\\Z\", \"Ernie's Tin Bar\", x))"
   ]
  },
  {
   "cell_type": "code",
   "execution_count": 409,
   "metadata": {},
   "outputs": [],
   "source": [
    "stores_to_drop = [\n",
    "    \"Craig Robinson\",\n",
    "    \"Club Costa Vida/WFSH\",\n",
    "    \"Bill's Liquor\",\n",
    "    \"Dan's Market\",\n",
    "    \"First Community Bank\",\n",
    "    \"Haight & Victoria\",\n",
    "    \"Kim's Baskets\",\n",
    "    \"Oliver's Market Business Offic\",\n",
    "    \"Oliver's Warehouse\",\n",
    "    \"Rialto Cinemas Elmwood\",\n",
    "    \"Wine & Food Spoken Here\",\n",
    "    \"Wine & Foods Spoken Here\",\n",
    "]"
   ]
  },
  {
   "cell_type": "code",
   "execution_count": 410,
   "metadata": {},
   "outputs": [],
   "source": [
    "profits = profits[profits['sold_to_name'].isin(stores_to_drop) == False]"
   ]
  },
  {
   "cell_type": "code",
   "execution_count": 411,
   "metadata": {},
   "outputs": [
    {
     "data": {
      "text/html": [
       "<div>\n",
       "<style scoped>\n",
       "    .dataframe tbody tr th:only-of-type {\n",
       "        vertical-align: middle;\n",
       "    }\n",
       "\n",
       "    .dataframe tbody tr th {\n",
       "        vertical-align: top;\n",
       "    }\n",
       "\n",
       "    .dataframe thead th {\n",
       "        text-align: right;\n",
       "    }\n",
       "</style>\n",
       "<table border=\"1\" class=\"dataframe\">\n",
       "  <thead>\n",
       "    <tr style=\"text-align: right;\">\n",
       "      <th></th>\n",
       "      <th>sold_to_name</th>\n",
       "      <th>product_line</th>\n",
       "      <th>quantity</th>\n",
       "      <th>gross_profit</th>\n",
       "      <th>territory</th>\n",
       "      <th>date</th>\n",
       "      <th>Store</th>\n",
       "      <th>Address</th>\n",
       "      <th>City</th>\n",
       "      <th>State</th>\n",
       "      <th>Full Address</th>\n",
       "      <th>lat</th>\n",
       "      <th>lon</th>\n",
       "    </tr>\n",
       "  </thead>\n",
       "  <tbody>\n",
       "    <tr>\n",
       "      <th>0</th>\n",
       "      <td>Farmer Joe's - Fruitvale Ave.</td>\n",
       "      <td>DCD</td>\n",
       "      <td>1941.0</td>\n",
       "      <td>2006.37</td>\n",
       "      <td>EB</td>\n",
       "      <td>2017-01-01</td>\n",
       "      <td>Farmer Joe's - Fruitvale Ave.</td>\n",
       "      <td>3420 Fruitvale Ave.</td>\n",
       "      <td>Oakland</td>\n",
       "      <td>California</td>\n",
       "      <td>3420 Fruitvale Ave., Oakland, California</td>\n",
       "      <td>37.799477</td>\n",
       "      <td>-122.216227</td>\n",
       "    </tr>\n",
       "    <tr>\n",
       "      <th>1</th>\n",
       "      <td>Seven Eleven-Redwood Hwy,M.V.</td>\n",
       "      <td>DCD</td>\n",
       "      <td>120.0</td>\n",
       "      <td>37.92</td>\n",
       "      <td>MR</td>\n",
       "      <td>2017-01-01</td>\n",
       "      <td>Seven Eleven-Redwood Hwy,M.V.</td>\n",
       "      <td>650 Redwood Hwy.</td>\n",
       "      <td>Mill Valley</td>\n",
       "      <td>California</td>\n",
       "      <td>650 Redwood Hwy., Mill Valley, California</td>\n",
       "      <td>37.891146</td>\n",
       "      <td>-122.516022</td>\n",
       "    </tr>\n",
       "    <tr>\n",
       "      <th>2</th>\n",
       "      <td>Nugget - #15 Corte Madera</td>\n",
       "      <td>DCD</td>\n",
       "      <td>144.0</td>\n",
       "      <td>32.85</td>\n",
       "      <td>MR</td>\n",
       "      <td>2017-01-01</td>\n",
       "      <td>Nugget - #15 Corte Madera</td>\n",
       "      <td>5627 Paradise  Drive</td>\n",
       "      <td>Corte Madera</td>\n",
       "      <td>California</td>\n",
       "      <td>5627 Paradise  Drive, Corte Madera, California</td>\n",
       "      <td>37.919095</td>\n",
       "      <td>-122.507826</td>\n",
       "    </tr>\n",
       "    <tr>\n",
       "      <th>3</th>\n",
       "      <td>Nugget - #15 Corte Madera</td>\n",
       "      <td>DCD</td>\n",
       "      <td>57.0</td>\n",
       "      <td>45.41</td>\n",
       "      <td>MR</td>\n",
       "      <td>2017-01-01</td>\n",
       "      <td>Nugget - #15 Corte Madera</td>\n",
       "      <td>5627 Paradise  Drive</td>\n",
       "      <td>Corte Madera</td>\n",
       "      <td>California</td>\n",
       "      <td>5627 Paradise  Drive, Corte Madera, California</td>\n",
       "      <td>37.919095</td>\n",
       "      <td>-122.507826</td>\n",
       "    </tr>\n",
       "    <tr>\n",
       "      <th>4</th>\n",
       "      <td>Nugget - #16 Novato</td>\n",
       "      <td>DCD</td>\n",
       "      <td>165.0</td>\n",
       "      <td>53.76</td>\n",
       "      <td>MR</td>\n",
       "      <td>2017-01-01</td>\n",
       "      <td>Nugget - #16 Novato</td>\n",
       "      <td>470 Ignacio Blvd.</td>\n",
       "      <td>Novato</td>\n",
       "      <td>California</td>\n",
       "      <td>470 Ignacio Blvd., Novato, California</td>\n",
       "      <td>38.067484</td>\n",
       "      <td>-122.542898</td>\n",
       "    </tr>\n",
       "  </tbody>\n",
       "</table>\n",
       "</div>"
      ],
      "text/plain": [
       "                    sold_to_name product_line  quantity  gross_profit  \\\n",
       "0  Farmer Joe's - Fruitvale Ave.          DCD    1941.0       2006.37   \n",
       "1  Seven Eleven-Redwood Hwy,M.V.          DCD     120.0         37.92   \n",
       "2      Nugget - #15 Corte Madera          DCD     144.0         32.85   \n",
       "3      Nugget - #15 Corte Madera          DCD      57.0         45.41   \n",
       "4            Nugget - #16 Novato          DCD     165.0         53.76   \n",
       "\n",
       "  territory        date                          Store               Address  \\\n",
       "0        EB  2017-01-01  Farmer Joe's - Fruitvale Ave.   3420 Fruitvale Ave.   \n",
       "1        MR  2017-01-01  Seven Eleven-Redwood Hwy,M.V.      650 Redwood Hwy.   \n",
       "2        MR  2017-01-01      Nugget - #15 Corte Madera  5627 Paradise  Drive   \n",
       "3        MR  2017-01-01      Nugget - #15 Corte Madera  5627 Paradise  Drive   \n",
       "4        MR  2017-01-01            Nugget - #16 Novato     470 Ignacio Blvd.   \n",
       "\n",
       "           City       State                                    Full Address  \\\n",
       "0       Oakland  California        3420 Fruitvale Ave., Oakland, California   \n",
       "1   Mill Valley  California       650 Redwood Hwy., Mill Valley, California   \n",
       "2  Corte Madera  California  5627 Paradise  Drive, Corte Madera, California   \n",
       "3  Corte Madera  California  5627 Paradise  Drive, Corte Madera, California   \n",
       "4        Novato  California           470 Ignacio Blvd., Novato, California   \n",
       "\n",
       "         lat         lon  \n",
       "0  37.799477 -122.216227  \n",
       "1  37.891146 -122.516022  \n",
       "2  37.919095 -122.507826  \n",
       "3  37.919095 -122.507826  \n",
       "4  38.067484 -122.542898  "
      ]
     },
     "execution_count": 411,
     "metadata": {},
     "output_type": "execute_result"
    }
   ],
   "source": [
    "df_profits = pd.merge(\n",
    "    profits, \n",
    "    store_coords, \n",
    "    left_on='sold_to_name',\n",
    "    right_on='Store',\n",
    "    how='left'\n",
    ")\n",
    "\n",
    "df_profits.head()"
   ]
  },
  {
   "cell_type": "code",
   "execution_count": 412,
   "metadata": {},
   "outputs": [],
   "source": [
    "df_profits.drop_duplicates(inplace=True)"
   ]
  },
  {
   "cell_type": "code",
   "execution_count": 413,
   "metadata": {},
   "outputs": [
    {
     "data": {
      "text/plain": [
       "(27521, 27527)"
      ]
     },
     "execution_count": 413,
     "metadata": {},
     "output_type": "execute_result"
    }
   ],
   "source": [
    "len(profits), len(df_profits)"
   ]
  },
  {
   "cell_type": "code",
   "execution_count": 414,
   "metadata": {},
   "outputs": [
    {
     "data": {
      "text/plain": [
       "sold_to_name    0\n",
       "product_line    0\n",
       "quantity        0\n",
       "gross_profit    0\n",
       "territory       0\n",
       "date            0\n",
       "Store           0\n",
       "Address         0\n",
       "City            0\n",
       "State           0\n",
       "Full Address    0\n",
       "lat             0\n",
       "lon             0\n",
       "dtype: int64"
      ]
     },
     "execution_count": 414,
     "metadata": {},
     "output_type": "execute_result"
    }
   ],
   "source": [
    "df_profits.isna().sum()"
   ]
  },
  {
   "cell_type": "code",
   "execution_count": 416,
   "metadata": {},
   "outputs": [],
   "source": [
    "df_profits.to_csv('../data/profits_locations.csv', index=False)"
   ]
  },
  {
   "cell_type": "code",
   "execution_count": null,
   "metadata": {},
   "outputs": [],
   "source": []
  },
  {
   "cell_type": "code",
   "execution_count": null,
   "metadata": {},
   "outputs": [],
   "source": []
  }
 ],
 "metadata": {
  "kernelspec": {
   "display_name": "Python 3.9.7 ('base')",
   "language": "python",
   "name": "python3"
  },
  "language_info": {
   "codemirror_mode": {
    "name": "ipython",
    "version": 3
   },
   "file_extension": ".py",
   "mimetype": "text/x-python",
   "name": "python",
   "nbconvert_exporter": "python",
   "pygments_lexer": "ipython3",
   "version": "3.9.7"
  },
  "orig_nbformat": 4,
  "vscode": {
   "interpreter": {
    "hash": "ad2bdc8ecc057115af97d19610ffacc2b4e99fae6737bb82f5d7fb13d2f2c186"
   }
  }
 },
 "nbformat": 4,
 "nbformat_minor": 2
}
